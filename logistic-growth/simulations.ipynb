{
 "cells": [
  {
   "cell_type": "code",
   "execution_count": 10,
   "id": "3e050b79",
   "metadata": {},
   "outputs": [],
   "source": [
    "using Plots"
   ]
  },
  {
   "cell_type": "code",
   "execution_count": 11,
   "id": "bb17447d",
   "metadata": {},
   "outputs": [
    {
     "data": {
      "text/plain": [
       "logistic_gillespie (generic function with 2 methods)"
      ]
     },
     "execution_count": 11,
     "metadata": {},
     "output_type": "execute_result"
    }
   ],
   "source": [
    "function logistic_gillespie(µ, ν, C, n_0, n_steps=10000)\n",
    "    \"\"\"\n",
    "    Parameters\n",
    "    ----------\n",
    "    µ: birth rate\n",
    "    ν: death rate\n",
    "    C: capacity\n",
    "    n_0: initial population size\n",
    "    n_steps: number of iterations\n",
    "    \n",
    "    when n -> ∞, the resulting differential equation is:\n",
    "    dn/dt = µn + ν(1 + n/C)n\n",
    "\n",
    "    Returns\n",
    "    --------\n",
    "    event_time: list of times when an event (i.e birth or death) occurs\n",
    "    n: the population size at each timepoint in event_time\n",
    "    \"\"\"\n",
    "    \n",
    "    n = [0. for _ in 1:n_steps]\n",
    "    event_time = [0. for _ in 1:n_steps]\n",
    "    n[1] = n_0\n",
    "    \n",
    "    for i in 2:n_steps\n",
    "        if n[i-1] == 0 # If the population is extinct, the simulation stops.\n",
    "            n = n[1:(i-1)]\n",
    "            event_time = event_time[1:(i-1)]\n",
    "            break\n",
    "        end\n",
    "        birth_rate = µ * n[i-1]\n",
    "        death_rate = ν * (1 + n[i-1] / C) * n[i-1]\n",
    "\n",
    "        t = -log(rand()) / (birth_rate + death_rate) # time until next event\n",
    "\n",
    "        is_birth = rand() < (birth_rate / (birth_rate + death_rate)) # whether the next event is birth \n",
    "\n",
    "        n[i] = n[i-1] + ifelse(is_birth, 1, -1)\n",
    "        event_time[i] = event_time[i-1] + t\n",
    "    end\n",
    "    event_time, n\n",
    "end"
   ]
  },
  {
   "cell_type": "code",
   "execution_count": 12,
   "id": "6cd36d2c",
   "metadata": {},
   "outputs": [],
   "source": [
    "list_n = []\n",
    "list_event_time = []\n",
    "µ, ν, C, n_0 = 1.5, 1, 100, 20\n",
    "for i in 1:3\n",
    "    event_time, n　= logistic_gillespie(µ, ν, C, n_0)\n",
    "    push!(list_n, n)\n",
    "    push!(list_event_time, event_time)\n",
    "end"
   ]
  },
  {
   "cell_type": "code",
   "execution_count": 13,
   "id": "f3435000",
   "metadata": {},
   "outputs": [],
   "source": [
    "p = plot(list_event_time, list_n)\n",
    "savefig(p, \"images/gillepie-trajectories.png\")"
   ]
  },
  {
   "cell_type": "code",
   "execution_count": null,
   "id": "5db1c435",
   "metadata": {},
   "outputs": [],
   "source": []
  }
 ],
 "metadata": {
  "kernelspec": {
   "display_name": "Julia 1.6.3",
   "language": "julia",
   "name": "julia-1.6"
  },
  "language_info": {
   "file_extension": ".jl",
   "mimetype": "application/julia",
   "name": "julia",
   "version": "1.6.3"
  }
 },
 "nbformat": 4,
 "nbformat_minor": 5
}
